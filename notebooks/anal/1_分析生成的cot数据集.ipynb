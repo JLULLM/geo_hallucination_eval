{
 "cells": [
  {
   "cell_type": "code",
   "execution_count": 31,
   "metadata": {},
   "outputs": [
    {
     "name": "stdout",
     "output_type": "stream",
     "text": [
      "+----------------+---------+----------+-----------+------------------+-------------------+\n",
      "|      stem      | n_total | cot_true | cot_false | cot_true_rate(%) | cot_false_rate(%) |\n",
      "+----------------+---------+----------+-----------+------------------+-------------------+\n",
      "|      ai2d      |   2000  |   886    |    232    |       44.30      |        11.60      |\n",
      "|    geometry    |   2101  |   799    |    879    |       38.03      |        41.84      |\n",
      "| UniGeo_Options |   8949  |   2593   |    4056   |       28.98      |        45.32      |\n",
      "|     GeoQA+     |  17162  |   5614   |   10276   |       32.71      |        59.88      |\n",
      "|     geo3k      |   2091  |   976    |    1093   |       46.68      |        52.27      |\n",
      "|    intergps    |   1760  |   811    |    935    |       46.08      |        53.12      |\n",
      "+----------------+---------+----------+-----------+------------------+-------------------+\n"
     ]
    }
   ],
   "source": [
    "# n_total, cot_true, cot_false, cot_true_rate, cot_false_rate\n",
    "pt = PrettyTable(field_names=['stem', 'n_total', 'cot_true', 'cot_false', 'cot_true_rate(%)', 'cot_false_rate(%)'])\n",
    "for stem, stem_info_dict in stem2info.items():\n",
    "    n_total = stem_info_dict['n_total']\n",
    "    cot_true = stem_info_dict['cot_true']\n",
    "    cot_false = stem_info_dict['cot_false']\n",
    "    cot_true_rate = f'{cot_true / n_total * 100: .2f}'\n",
    "    cot_false_rate = f'{cot_false / n_total * 100: .2f}A'\n",
    "    pt.add_row([stem, n_total, cot_true, cot_false, cot_true_rate, cot_false_rate])\n",
    "print(pt)"
   ]
  }
 ],
 "metadata": {
  "kernelspec": {
   "display_name": "Python 3",
   "language": "python",
   "name": "python3"
  },
  "language_info": {
   "codemirror_mode": {
    "name": "ipython",
    "version": 3
   },
   "file_extension": ".py",
   "mimetype": "text/x-python",
   "name": "python",
   "nbconvert_exporter": "python",
   "pygments_lexer": "ipython3",
   "version": "3.10.12"
  }
 },
 "nbformat": 4,
 "nbformat_minor": 2
}
